{
 "cells": [
  {
   "cell_type": "code",
   "execution_count": 1,
   "metadata": {},
   "outputs": [],
   "source": [
    "import string\n",
    "import numpy as np\n",
    "\n",
    "SEED = 17"
   ]
  },
  {
   "cell_type": "code",
   "execution_count": 2,
   "metadata": {},
   "outputs": [],
   "source": [
    "LETTER_TO_NUMBER = dict()\n",
    "NUMBER_TO_LETTER = dict()\n",
    "\n",
    "for num, letter in enumerate(string.ascii_lowercase):\n",
    "    LETTER_TO_NUMBER[letter] = num\n",
    "\n",
    "for key, val in LETTER_TO_NUMBER.items():\n",
    "    NUMBER_TO_LETTER[val] = key"
   ]
  },
  {
   "cell_type": "markdown",
   "metadata": {},
   "source": [
    "### Key Generation"
   ]
  },
  {
   "cell_type": "code",
   "execution_count": 3,
   "metadata": {},
   "outputs": [],
   "source": [
    "def generate_key(seed: int = SEED) -> str:\n",
    "\n",
    "    letters = list(string.ascii_lowercase)\n",
    "\n",
    "    np.random.seed(seed)\n",
    "    np.random.shuffle(letters)\n",
    "\n",
    "    key = \"\".join(letters)\n",
    "\n",
    "    return key"
   ]
  },
  {
   "cell_type": "markdown",
   "metadata": {},
   "source": [
    "### Encrypt"
   ]
  },
  {
   "cell_type": "code",
   "execution_count": 4,
   "metadata": {},
   "outputs": [],
   "source": [
    "def encrypt(plain: str, key: str) -> str:\n",
    "    cipher = \"\"\n",
    "    for letter in plain.lower():\n",
    "        \n",
    "        if letter in LETTER_TO_NUMBER:\n",
    "            p_num = LETTER_TO_NUMBER[letter]\n",
    "\n",
    "            c_letter = key[p_num]            \n",
    "            cipher += c_letter\n",
    "        else:\n",
    "            cipher += letter\n",
    "\n",
    "    return cipher"
   ]
  },
  {
   "cell_type": "code",
   "execution_count": 5,
   "metadata": {},
   "outputs": [
    {
     "data": {
      "text/plain": [
       "'vfiio gomiu'"
      ]
     },
     "execution_count": 5,
     "metadata": {},
     "output_type": "execute_result"
    }
   ],
   "source": [
    "plain = \"hello world\"\n",
    "key = generate_key()\n",
    "\n",
    "encrypt(plain, key)"
   ]
  },
  {
   "cell_type": "markdown",
   "metadata": {},
   "source": [
    "### Decrypt"
   ]
  },
  {
   "cell_type": "code",
   "execution_count": 6,
   "metadata": {},
   "outputs": [],
   "source": [
    "def decrypt(cipher: str, key: str) -> str:\n",
    "    plain = \"\"\n",
    "    for letter in cipher.lower():\n",
    "\n",
    "        if letter in LETTER_TO_NUMBER:\n",
    "\n",
    "            p_num = key.find(letter)\n",
    "            p_letter = NUMBER_TO_LETTER[p_num]\n",
    "            plain += p_letter\n",
    "        else:\n",
    "            plain += letter\n",
    "    \n",
    "    return plain"
   ]
  },
  {
   "cell_type": "code",
   "execution_count": 7,
   "metadata": {},
   "outputs": [
    {
     "data": {
      "text/plain": [
       "'hello world'"
      ]
     },
     "execution_count": 7,
     "metadata": {},
     "output_type": "execute_result"
    }
   ],
   "source": [
    "cipher = \"vfiio gomiu\"\n",
    "key = generate_key()\n",
    "\n",
    "decrypt(cipher, key)"
   ]
  }
 ],
 "metadata": {
  "kernelspec": {
   "display_name": "base",
   "language": "python",
   "name": "python3"
  },
  "language_info": {
   "codemirror_mode": {
    "name": "ipython",
    "version": 3
   },
   "file_extension": ".py",
   "mimetype": "text/x-python",
   "name": "python",
   "nbconvert_exporter": "python",
   "pygments_lexer": "ipython3",
   "version": "3.10.12"
  }
 },
 "nbformat": 4,
 "nbformat_minor": 2
}

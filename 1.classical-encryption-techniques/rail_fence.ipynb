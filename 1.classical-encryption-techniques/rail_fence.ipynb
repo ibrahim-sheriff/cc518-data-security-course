{
 "cells": [
  {
   "cell_type": "code",
   "execution_count": 1,
   "metadata": {},
   "outputs": [],
   "source": [
    "import numpy as np\n",
    "import string"
   ]
  },
  {
   "cell_type": "markdown",
   "metadata": {},
   "source": [
    "### Prepare Key"
   ]
  },
  {
   "cell_type": "code",
   "execution_count": 2,
   "metadata": {},
   "outputs": [],
   "source": [
    "def prepare_key(key):\n",
    "    \n",
    "    key_list = list()\n",
    "    for num in str(key):\n",
    "        key_list.append(int(num) - 1)\n",
    "    \n",
    "    return key_list"
   ]
  },
  {
   "cell_type": "code",
   "execution_count": 3,
   "metadata": {},
   "outputs": [
    {
     "data": {
      "text/plain": [
       "[3, 2, 0, 1, 4, 5, 6]"
      ]
     },
     "execution_count": 3,
     "metadata": {},
     "output_type": "execute_result"
    }
   ],
   "source": [
    "key = 4312567\n",
    "key_list = prepare_key(key)\n",
    "\n",
    "key_list"
   ]
  },
  {
   "cell_type": "code",
   "execution_count": 4,
   "metadata": {},
   "outputs": [
    {
     "data": {
      "text/plain": [
       "array([2, 3, 1, 0, 4, 5, 6])"
      ]
     },
     "execution_count": 4,
     "metadata": {},
     "output_type": "execute_result"
    }
   ],
   "source": [
    "np.argsort(key_list)"
   ]
  },
  {
   "cell_type": "markdown",
   "metadata": {},
   "source": [
    "### Encrypt"
   ]
  },
  {
   "cell_type": "code",
   "execution_count": 5,
   "metadata": {},
   "outputs": [],
   "source": [
    "def encrypt(plain: str, key: int) -> str:\n",
    "    key = prepare_key(key)\n",
    "\n",
    "    # get the count of remaining chars needed to complete\n",
    "    # the plain so that its fully divisible by the key\n",
    "    if len(plain) % len(key) != 0:\n",
    "        rem_chars = len(key) - len(plain) % len(key)\n",
    "        plain += string.ascii_lowercase[-rem_chars:]\n",
    "    \n",
    "    plain_array = np.array(list(plain))\n",
    "    plain_matrix = plain_array.reshape(-1, len(key))\n",
    "    plain_matrix = plain_matrix[:, np.argsort(key)]\n",
    "    plain_matrix = plain_matrix.transpose()\n",
    "    plain_matrix = plain_matrix.reshape(1, -1)\n",
    "    plain_matrix = plain_matrix.ravel()\n",
    "\n",
    "    return \"\".join(plain_matrix)"
   ]
  },
  {
   "cell_type": "code",
   "execution_count": 6,
   "metadata": {},
   "outputs": [
    {
     "data": {
      "text/plain": [
       "'ttnaaptmtsuoaodwcoixknlypetz'"
      ]
     },
     "execution_count": 6,
     "metadata": {},
     "output_type": "execute_result"
    }
   ],
   "source": [
    "key = 4312567\n",
    "plain = \"attackpostponeduntiltwoam\"\n",
    "\n",
    "encrypt(plain, key)"
   ]
  },
  {
   "cell_type": "markdown",
   "metadata": {},
   "source": [
    "### Decrypt"
   ]
  },
  {
   "cell_type": "code",
   "execution_count": 7,
   "metadata": {},
   "outputs": [],
   "source": [
    "def decrypt(cipher: str, key: int) -> str:\n",
    "    key = prepare_key(key)\n",
    "\n",
    "    cipher_array = np.array(list(cipher))\n",
    "    cipher_matrix = cipher_array.reshape(-1, len(cipher) // len(key))\n",
    "    cipher_matrix = cipher_matrix.transpose()\n",
    "    cipher_matrix = cipher_matrix[:, key]\n",
    "    cipher_matrix = cipher_matrix.reshape(1, -1)\n",
    "    cipher_matrix = cipher_matrix.ravel()\n",
    "\n",
    "    return \"\".join(cipher_matrix)"
   ]
  },
  {
   "cell_type": "code",
   "execution_count": 8,
   "metadata": {},
   "outputs": [
    {
     "data": {
      "text/plain": [
       "'attackpostponeduntiltwoamxyz'"
      ]
     },
     "execution_count": 8,
     "metadata": {},
     "output_type": "execute_result"
    }
   ],
   "source": [
    "key = 4312567\n",
    "cipher = \"ttnaaptmtsuoaodwcoixknlypetz\"\n",
    "\n",
    "decrypt(cipher, key)"
   ]
  }
 ],
 "metadata": {
  "kernelspec": {
   "display_name": "base",
   "language": "python",
   "name": "python3"
  },
  "language_info": {
   "codemirror_mode": {
    "name": "ipython",
    "version": 3
   },
   "file_extension": ".py",
   "mimetype": "text/x-python",
   "name": "python",
   "nbconvert_exporter": "python",
   "pygments_lexer": "ipython3",
   "version": "3.10.12"
  }
 },
 "nbformat": 4,
 "nbformat_minor": 2
}

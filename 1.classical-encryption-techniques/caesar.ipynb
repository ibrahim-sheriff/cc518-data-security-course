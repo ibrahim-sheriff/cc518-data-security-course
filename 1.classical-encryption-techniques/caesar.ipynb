{
 "cells": [
  {
   "cell_type": "code",
   "execution_count": 1,
   "metadata": {},
   "outputs": [],
   "source": [
    "import string"
   ]
  },
  {
   "cell_type": "code",
   "execution_count": 2,
   "metadata": {},
   "outputs": [],
   "source": [
    "LETTER_TO_NUMBER = dict()\n",
    "NUMBER_TO_LETTER = dict()\n",
    "\n",
    "for num, letter in enumerate(string.ascii_lowercase):\n",
    "    LETTER_TO_NUMBER[letter] = num\n",
    "\n",
    "for key, val in LETTER_TO_NUMBER.items():\n",
    "    NUMBER_TO_LETTER[val] = key"
   ]
  },
  {
   "cell_type": "markdown",
   "metadata": {},
   "source": [
    "### Encrypt"
   ]
  },
  {
   "cell_type": "code",
   "execution_count": 3,
   "metadata": {},
   "outputs": [],
   "source": [
    "def encrypt(plain: str, key: int) -> str:\n",
    "    cipher = \"\"\n",
    "    for letter in plain.lower():\n",
    "        \n",
    "        if letter in LETTER_TO_NUMBER:\n",
    "            p_num = LETTER_TO_NUMBER[letter]\n",
    "\n",
    "            c_num = (p_num + key) % 26\n",
    "            c_letter = NUMBER_TO_LETTER[c_num]\n",
    "            \n",
    "            cipher += c_letter\n",
    "        else:\n",
    "            cipher += letter\n",
    "\n",
    "    return cipher"
   ]
  },
  {
   "cell_type": "code",
   "execution_count": 4,
   "metadata": {},
   "outputs": [
    {
     "data": {
      "text/plain": [
       "'khoorc'"
      ]
     },
     "execution_count": 4,
     "metadata": {},
     "output_type": "execute_result"
    }
   ],
   "source": [
    "encrypt(\"helloz\", 3)"
   ]
  },
  {
   "cell_type": "markdown",
   "metadata": {},
   "source": [
    "### Decrypt"
   ]
  },
  {
   "cell_type": "code",
   "execution_count": 5,
   "metadata": {},
   "outputs": [],
   "source": [
    "def decrypt(cipher: str, key: int) -> str:\n",
    "    plain = \"\"\n",
    "    for letter in cipher.lower():\n",
    "\n",
    "        if letter in LETTER_TO_NUMBER:\n",
    "            c_num = LETTER_TO_NUMBER[letter]\n",
    "\n",
    "            p_num = (c_num - key) % 26\n",
    "            p_letter = NUMBER_TO_LETTER[p_num]\n",
    "        \n",
    "            plain += p_letter\n",
    "        else:\n",
    "            plain += letter\n",
    "    \n",
    "    return plain"
   ]
  },
  {
   "cell_type": "code",
   "execution_count": 6,
   "metadata": {},
   "outputs": [
    {
     "data": {
      "text/plain": [
       "'meet me after the toga party'"
      ]
     },
     "execution_count": 6,
     "metadata": {},
     "output_type": "execute_result"
    }
   ],
   "source": [
    "decrypt(\"phhw ph diwhu wkh wrjd sduwb\", 3)"
   ]
  },
  {
   "cell_type": "markdown",
   "metadata": {},
   "source": [
    "### Cryptanalysis"
   ]
  },
  {
   "cell_type": "code",
   "execution_count": 7,
   "metadata": {},
   "outputs": [
    {
     "name": "stdout",
     "output_type": "stream",
     "text": [
      "Key 0: phhw ph diwhu wkh wrjd sduwb\n",
      "Key 1: oggv og chvgt vjg vqic rctva\n",
      "Key 2: nffu nf bgufs uif uphb qbsuz\n",
      "Key 3: meet me after the toga party\n",
      "Key 4: ldds ld zesdq sgd snfz ozqsx\n",
      "Key 5: kccr kc ydrcp rfc rmey nyprw\n",
      "Key 6: jbbq jb xcqbo qeb qldx mxoqv\n",
      "Key 7: iaap ia wbpan pda pkcw lwnpu\n",
      "Key 8: hzzo hz vaozm ocz ojbv kvmot\n",
      "Key 9: gyyn gy uznyl nby niau julns\n",
      "Key 10: fxxm fx tymxk max mhzt itkmr\n",
      "Key 11: ewwl ew sxlwj lzw lgys hsjlq\n",
      "Key 12: dvvk dv rwkvi kyv kfxr grikp\n",
      "Key 13: cuuj cu qvjuh jxu jewq fqhjo\n",
      "Key 14: btti bt puitg iwt idvp epgin\n",
      "Key 15: assh as othsf hvs hcuo dofhm\n",
      "Key 16: zrrg zr nsgre gur gbtn cnegl\n",
      "Key 17: yqqf yq mrfqd ftq fasm bmdfk\n",
      "Key 18: xppe xp lqepc esp ezrl alcej\n",
      "Key 19: wood wo kpdob dro dyqk zkbdi\n",
      "Key 20: vnnc vn jocna cqn cxpj yjach\n",
      "Key 21: ummb um inbmz bpm bwoi xizbg\n",
      "Key 22: tlla tl hmaly aol avnh whyaf\n",
      "Key 23: skkz sk glzkx znk zumg vgxze\n",
      "Key 24: rjjy rj fkyjw ymj ytlf ufwyd\n",
      "Key 25: qiix qi ejxiv xli xske tevxc\n"
     ]
    }
   ],
   "source": [
    "for k in range(0, 26):\n",
    "    print(f\"Key {k}:\", decrypt(\"phhw ph diwhu wkh wrjd sduwb\", k))"
   ]
  }
 ],
 "metadata": {
  "kernelspec": {
   "display_name": "base",
   "language": "python",
   "name": "python3"
  },
  "language_info": {
   "codemirror_mode": {
    "name": "ipython",
    "version": 3
   },
   "file_extension": ".py",
   "mimetype": "text/x-python",
   "name": "python",
   "nbconvert_exporter": "python",
   "pygments_lexer": "ipython3",
   "version": "3.10.12"
  }
 },
 "nbformat": 4,
 "nbformat_minor": 2
}

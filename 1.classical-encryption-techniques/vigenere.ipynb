{
 "cells": [
  {
   "cell_type": "code",
   "execution_count": 2,
   "metadata": {},
   "outputs": [],
   "source": [
    "import string"
   ]
  },
  {
   "cell_type": "code",
   "execution_count": 3,
   "metadata": {},
   "outputs": [],
   "source": [
    "LETTER_TO_NUMBER = dict()\n",
    "NUMBER_TO_LETTER = dict()\n",
    "\n",
    "for num, letter in enumerate(string.ascii_lowercase):\n",
    "    LETTER_TO_NUMBER[letter] = num\n",
    "\n",
    "for key, val in LETTER_TO_NUMBER.items():\n",
    "    NUMBER_TO_LETTER[val] = key"
   ]
  },
  {
   "cell_type": "markdown",
   "metadata": {},
   "source": [
    "### Encrypt"
   ]
  },
  {
   "cell_type": "code",
   "execution_count": 4,
   "metadata": {},
   "outputs": [],
   "source": [
    "def encrypt(plain: str, key: str) -> str:\n",
    "    plain = plain.lower().replace(\" \", \"\")\n",
    "    key = key.lower()\n",
    "    \n",
    "    cipher = \"\"\n",
    "    for i, p_letter in enumerate(plain):\n",
    "        \n",
    "        if p_letter in LETTER_TO_NUMBER:\n",
    "            \n",
    "            k_letter = key[i % len(key)]\n",
    "\n",
    "            p_num = LETTER_TO_NUMBER[p_letter]\n",
    "            k_num = LETTER_TO_NUMBER[k_letter]\n",
    "\n",
    "            c_num = (p_num + k_num) % 26\n",
    "            c_letter = NUMBER_TO_LETTER[c_num]\n",
    "            \n",
    "            cipher += c_letter\n",
    "        else:\n",
    "            cipher += letter\n",
    "\n",
    "    return cipher"
   ]
  },
  {
   "cell_type": "code",
   "execution_count": 5,
   "metadata": {},
   "outputs": [
    {
     "data": {
      "text/plain": [
       "'zicvtwqngrzgvtwavzhcqyglmgj'"
      ]
     },
     "execution_count": 5,
     "metadata": {},
     "output_type": "execute_result"
    }
   ],
   "source": [
    "key = \"deceptive\"\n",
    "plain = \"we are discovered save yourself\"\n",
    "encrypt(plain, key)"
   ]
  },
  {
   "cell_type": "markdown",
   "metadata": {},
   "source": [
    "### Decrypt"
   ]
  },
  {
   "cell_type": "code",
   "execution_count": 6,
   "metadata": {},
   "outputs": [],
   "source": [
    "def decrypt(cipher: str, key: str) -> str:\n",
    "    cipher = cipher.lower().replace(\" \", \"\")\n",
    "    key = key.lower()\n",
    "\n",
    "    plain = \"\"\n",
    "    for i, c_letter in enumerate(cipher):\n",
    "\n",
    "        if c_letter in LETTER_TO_NUMBER:\n",
    "\n",
    "            k_letter = key[i % len(key)]\n",
    "\n",
    "            c_num = LETTER_TO_NUMBER[c_letter]\n",
    "            k_num = LETTER_TO_NUMBER[k_letter]\n",
    "\n",
    "            p_num = (c_num - k_num) % 26\n",
    "            p_letter = NUMBER_TO_LETTER[p_num]\n",
    "\n",
    "            plain += p_letter\n",
    "        else:\n",
    "            plain += letter\n",
    "    \n",
    "    return plain"
   ]
  },
  {
   "cell_type": "code",
   "execution_count": 7,
   "metadata": {},
   "outputs": [
    {
     "data": {
      "text/plain": [
       "'wearediscoveredsaveyourself'"
      ]
     },
     "execution_count": 7,
     "metadata": {},
     "output_type": "execute_result"
    }
   ],
   "source": [
    "key = \"deceptive\"\n",
    "plain = \"zicvtwqngrzgvtwavzhcqyglmgj\"\n",
    "decrypt(plain, key)"
   ]
  }
 ],
 "metadata": {
  "kernelspec": {
   "display_name": "base",
   "language": "python",
   "name": "python3"
  },
  "language_info": {
   "codemirror_mode": {
    "name": "ipython",
    "version": 3
   },
   "file_extension": ".py",
   "mimetype": "text/x-python",
   "name": "python",
   "nbconvert_exporter": "python",
   "pygments_lexer": "ipython3",
   "version": "3.10.12"
  }
 },
 "nbformat": 4,
 "nbformat_minor": 2
}
